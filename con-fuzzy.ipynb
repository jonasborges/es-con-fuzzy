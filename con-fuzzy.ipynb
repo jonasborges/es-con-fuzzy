{
 "cells": [
  {
   "cell_type": "code",
   "execution_count": 1,
   "metadata": {},
   "outputs": [
    {
     "data": {
      "text/plain": [
       "<Response [400]>"
      ]
     },
     "execution_count": 1,
     "metadata": {},
     "output_type": "execute_result"
    }
   ],
   "source": [
    "# add mappings\n",
    "import requests\n",
    "mappings  = {\n",
    "    \"mappings\": {\n",
    "        \"_doc\" : {\n",
    "            \"properties\" : {\n",
    "                \"suggest\" : {\n",
    "                    \"type\" : \"completion\"\n",
    "                },\n",
    "                \"title\" : {\n",
    "                    \"type\": \"keyword\"\n",
    "                }\n",
    "            }\n",
    "        }\n",
    "    }\n",
    "}\n",
    "requests.put('http://localhost:9200/names', json=mappings)"
   ]
  },
  {
   "cell_type": "code",
   "execution_count": 2,
   "metadata": {},
   "outputs": [
    {
     "name": "stdout",
     "output_type": "stream",
     "text": [
      "{\"_index\":\"names\",\"_type\":\"_doc\",\"_id\":\"similar\",\"_version\":4,\"result\":\"updated\",\"forced_refresh\":true,\"_shards\":{\"total\":2,\"successful\":1,\"failed\":0},\"_seq_no\":3,\"_primary_term\":1}\n"
     ]
    }
   ],
   "source": [
    "# INDEXING similar terms\n",
    "\n",
    "terms = {\n",
    "  \"suggest\" : ['jonas', 'jonatas', 'jonathan', 'jones']\n",
    "}\n",
    "res = requests.put('http://localhost:9200/names/_doc/similar?refresh', json=terms)\n",
    "print(res.text)"
   ]
  },
  {
   "cell_type": "code",
   "execution_count": 3,
   "metadata": {},
   "outputs": [
    {
     "name": "stdout",
     "output_type": "stream",
     "text": [
      "{\n",
      "  \"took\" : 6,\n",
      "  \"timed_out\" : false,\n",
      "  \"_shards\" : {\n",
      "    \"total\" : 5,\n",
      "    \"successful\" : 5,\n",
      "    \"skipped\" : 0,\n",
      "    \"failed\" : 0\n",
      "  },\n",
      "  \"hits\" : {\n",
      "    \"total\" : 0,\n",
      "    \"max_score\" : 0.0,\n",
      "    \"hits\" : [ ]\n",
      "  },\n",
      "  \"suggest\" : {\n",
      "    \"name-suggest\" : [\n",
      "      {\n",
      "        \"text\" : \"jonax\",\n",
      "        \"offset\" : 0,\n",
      "        \"length\" : 5,\n",
      "        \"options\" : [\n",
      "          {\n",
      "            \"text\" : \"jonas\",\n",
      "            \"_index\" : \"names\",\n",
      "            \"_type\" : \"_doc\",\n",
      "            \"_id\" : \"similar\",\n",
      "            \"_score\" : 3.0,\n",
      "            \"_source\" : {\n",
      "              \"suggest\" : [\n",
      "                \"jonas\",\n",
      "                \"jonatas\",\n",
      "                \"jonathan\",\n",
      "                \"jones\"\n",
      "              ]\n",
      "            }\n",
      "          }\n",
      "        ]\n",
      "      }\n",
      "    ]\n",
      "  }\n",
      "}\n",
      "\n"
     ]
    }
   ],
   "source": [
    "# querying similar terms FUZZY ON -- typo FIXED\n",
    "\n",
    "query = {\n",
    "    \"_source\": True,\n",
    "    \"suggest\": {\n",
    "        \"name-suggest\" : {\n",
    "            \"prefix\" : \"jonax\", \n",
    "            \"completion\" : { \n",
    "                \"field\" : \"suggest\",                \n",
    "                \"fuzzy\" : {\n",
    "                    \"fuzziness\" : 3\n",
    "                },\n",
    "                \"size\": 5\n",
    "            }\n",
    "        }\n",
    "    }\n",
    "}\n",
    "res = requests.post('http://localhost:9200/names/_search?pretty', json=query)\n",
    "print(res.text)"
   ]
  },
  {
   "cell_type": "code",
   "execution_count": 8,
   "metadata": {},
   "outputs": [
    {
     "name": "stdout",
     "output_type": "stream",
     "text": [
      "{\n",
      "  \"took\" : 5,\n",
      "  \"timed_out\" : false,\n",
      "  \"_shards\" : {\n",
      "    \"total\" : 5,\n",
      "    \"successful\" : 5,\n",
      "    \"skipped\" : 0,\n",
      "    \"failed\" : 0\n",
      "  },\n",
      "  \"hits\" : {\n",
      "    \"total\" : 0,\n",
      "    \"max_score\" : 0.0,\n",
      "    \"hits\" : [ ]\n",
      "  },\n",
      "  \"suggest\" : {\n",
      "    \"name-suggest\" : [\n",
      "      {\n",
      "        \"text\" : \"jonat\",\n",
      "        \"offset\" : 0,\n",
      "        \"length\" : 5,\n",
      "        \"options\" : [\n",
      "          {\n",
      "            \"text\" : \"jonas\",\n",
      "            \"_index\" : \"names\",\n",
      "            \"_type\" : \"_doc\",\n",
      "            \"_id\" : \"similar\",\n",
      "            \"_score\" : 3.0,\n",
      "            \"_source\" : {\n",
      "              \"suggest\" : [\n",
      "                \"jonas\",\n",
      "                \"jonatas\",\n",
      "                \"jonathan\",\n",
      "                \"jones\"\n",
      "              ]\n",
      "            }\n",
      "          }\n",
      "        ]\n",
      "      }\n",
      "    ]\n",
      "  }\n",
      "}\n",
      "\n"
     ]
    }
   ],
   "source": [
    "# querying similar terms FUZZY ON -- \n",
    "# NO TYPO, BUT FUZZY STILL RETURN 'jonas' when 'jonatas' would be more appropriated\n",
    "\n",
    "query = {\n",
    "    \"_source\": True,\n",
    "    \"suggest\": {\n",
    "        \"name-suggest\" : {\n",
    "            \"prefix\" : \"jonat\", \n",
    "            \"completion\" : { \n",
    "                \"field\" : \"suggest\",                \n",
    "                \"fuzzy\" : {\n",
    "                    \"fuzziness\" : 3\n",
    "                },\n",
    "                \"size\": 5\n",
    "            }\n",
    "        }\n",
    "    }\n",
    "}\n",
    "res = requests.post('http://localhost:9200/names/_search?pretty', json=query)\n",
    "print(res.text)"
   ]
  }
 ],
 "metadata": {
  "kernelspec": {
   "display_name": "Python 3",
   "language": "python",
   "name": "python3"
  },
  "language_info": {
   "codemirror_mode": {
    "name": "ipython",
    "version": 3
   },
   "file_extension": ".py",
   "mimetype": "text/x-python",
   "name": "python",
   "nbconvert_exporter": "python",
   "pygments_lexer": "ipython3",
   "version": "3.7.0"
  }
 },
 "nbformat": 4,
 "nbformat_minor": 2
}
